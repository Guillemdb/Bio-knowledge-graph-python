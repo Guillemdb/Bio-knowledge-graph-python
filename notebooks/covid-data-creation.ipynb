{
 "cells": [
  {
   "cell_type": "code",
   "execution_count": 1,
   "metadata": {},
   "outputs": [],
   "source": [
    "import pandas as pd\n",
    "import pickle"
   ]
  },
  {
   "cell_type": "markdown",
   "metadata": {},
   "source": [
    "# Updating data"
   ]
  },
  {
   "cell_type": "markdown",
   "metadata": {},
   "source": [
    "The data available on covid-19 is at : https://covid-19.uniprot.org/uniprotkb?query=*\n",
    "\n",
    "Because the data is updated frequently, I show here the process of how update covid data:\n",
    "* Download data in .xlsx fro source : include go terms, functions and sequences.\n",
    "* Find the columns for cellular components, biological processes and molecular functions"
   ]
  },
  {
   "cell_type": "code",
   "execution_count": 124,
   "metadata": {},
   "outputs": [],
   "source": [
    "covid19 = pd.read_excel(\"../data/covid19.xlsx\")\n",
    "covid19_np = covid19.to_numpy()\n",
    "covid_data = {}\n",
    "covid_go_to_name = {}\n",
    "for data in covid19_np:\n",
    "    covid_data[data[0]] = {}\n",
    "    if \"HUMAN\" in data[2]:\n",
    "        covid_data[data[0]][\"human\"] = True\n",
    "    else:\n",
    "        covid_data[data[0]][\"human\"] = False\n",
    "    covid_data[data[0]][\"sequence\"] = data[5]\n",
    "    covid_data[data[0]][\"molecular_functions\"] = []\n",
    "    covid_data[data[0]][\"cellular_components\"] = []\n",
    "    covid_data[data[0]][\"biological_processes\"] = []\n",
    "    if data[7] == data[7]:\n",
    "        mfs = data[7].split(\"; \")\n",
    "        for mf in mfs:\n",
    "            mf = mf.split(\" [\")\n",
    "            go_id = mf[-1][:-1]\n",
    "            covid_go_to_name[go_id] = mf[0]\n",
    "            covid_data[data[0]][\"molecular_functions\"].append(go_id)\n",
    "    if data[8] == data[8]:\n",
    "        ccs = data[8].split(\"; \")\n",
    "        for cc in ccs:\n",
    "            cc = cc.split(\" [\")\n",
    "            go_id = cc[-1][:-1]\n",
    "            covid_go_to_name[go_id] = cc[0]\n",
    "            covid_data[data[0]][\"cellular_components\"].append(go_id)\n",
    "    if data[9] == data[9]:\n",
    "        bps = data[9].split(\"; \")\n",
    "        for bp in bps:\n",
    "            bp = bp.split(\" [\")\n",
    "            go_id = bp[-1][:-1]\n",
    "            covid_go_to_name[go_id] = bp[0]\n",
    "            covid_data[data[0]][\"biological_processes\"].append(go_id)\n",
    "    if data[20] == data[20]:\n",
    "        covid_data[data[0]][\"info\"] = data[20][10:]"
   ]
  },
  {
   "cell_type": "code",
   "execution_count": 198,
   "metadata": {},
   "outputs": [],
   "source": [
    "pickle.dump(covid_data, open(\"../data/covid_data.p\", \"wb\"))\n",
    "pickle.dump(covid_go_to_name, open(\"../data/covid_go_to_name.p\", \"wb\"))"
   ]
  }
 ],
 "metadata": {
  "kernelspec": {
   "display_name": "Python [conda env:torch3]",
   "language": "python",
   "name": "conda-env-torch3-py"
  },
  "language_info": {
   "codemirror_mode": {
    "name": "ipython",
    "version": 3
   },
   "file_extension": ".py",
   "mimetype": "text/x-python",
   "name": "python",
   "nbconvert_exporter": "python",
   "pygments_lexer": "ipython3",
   "version": "3.6.8"
  }
 },
 "nbformat": 4,
 "nbformat_minor": 2
}
